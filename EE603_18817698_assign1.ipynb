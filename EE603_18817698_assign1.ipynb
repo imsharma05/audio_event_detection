{
  "nbformat": 4,
  "nbformat_minor": 0,
  "metadata": {
    "colab": {
      "provenance": []
    },
    "kernelspec": {
      "name": "python3",
      "display_name": "Python 3"
    },
    "language_info": {
      "name": "python"
    }
  },
  "cells": [
    {
      "cell_type": "code",
      "execution_count": 84,
      "metadata": {
        "id": "BbRAHNNG12E7"
      },
      "outputs": [],
      "source": [
        "import numpy as np\n",
        "import os\n",
        "import glob\n",
        "import pandas as pd\n",
        "import random\n",
        "from scipy.ndimage import zoom\n",
        "from tensorflow import keras\n",
        "from tensorflow import keras\n",
        "import tensorflow as tf\n",
        "from keras import Sequential\n",
        "from sklearn.model_selection import train_test_split\n",
        "from keras.layers import Activation,Dense,Dropout\n",
        "from sklearn.metrics import accuracy_score\n",
        "from sklearn.metrics import precision_score\n",
        "from sklearn.metrics import recall_score\n",
        "from sklearn.metrics import f1_score\n",
        "from sklearn.metrics import confusion_matrix"
      ]
    },
    {
      "cell_type": "code",
      "source": [
        "from google.colab import drive\n",
        "drive.mount('/content/drive')"
      ],
      "metadata": {
        "colab": {
          "base_uri": "https://localhost:8080/"
        },
        "id": "NTSSjjjHeu0M",
        "outputId": "b7644f8d-f003-4a3e-9af9-6cf19be6b9cf"
      },
      "execution_count": 3,
      "outputs": [
        {
          "output_type": "stream",
          "name": "stdout",
          "text": [
            "Mounted at /content/drive\n"
          ]
        }
      ]
    },
    {
      "cell_type": "markdown",
      "source": [
        "# **Data Extraction**"
      ],
      "metadata": {
        "id": "xyQOaW2eSaZ9"
      }
    },
    {
      "cell_type": "code",
      "source": [
        "####Spectrogram Resizing Function#######\n",
        "def spec_resize(X):\n",
        "  X = zoom(X, (1, 1, 500/X.shape[2])) \n",
        "  return X[0]"
      ],
      "metadata": {
        "id": "2P1uZene3rsT"
      },
      "execution_count": 6,
      "outputs": []
    },
    {
      "cell_type": "code",
      "source": [
        "#######Read CSV File#########\n",
        "def read_csv(filename):\n",
        "    id_label = {}\n",
        "    with open(filename,'r') as fid:\n",
        "        for line in fid: # '176787-5-0-27.wav,engine_idling\\n'\n",
        "            tokens = line.strip().split(',') # ['176787-5-0-27.wav', 'engine_idling']\n",
        "            id_label[tokens[0]] = tokens[1]\n",
        "    return id_label"
      ],
      "metadata": {
        "id": "wM2uk1A1OeBY"
      },
      "execution_count": 39,
      "outputs": []
    },
    {
      "cell_type": "markdown",
      "source": [
        "# **Test & Training Data Split**"
      ],
      "metadata": {
        "id": "tlJ8sBdA-mBX"
      }
    },
    {
      "cell_type": "code",
      "source": [
        "def train_test_data_split(train_directory,csv_file):\n",
        "    Data = pd.read_csv(csv_file)\n",
        "    spec_label = read_csv(csv_file)      ######Spectrogram File name and Label corresponding to each of them\n",
        "    audio_labels = list(Data['label'].unique())\n",
        "    audio_labels_int = list(range(len(audio_labels)))\n",
        "    no_audio_classes = len(audio_labels_int)\n",
        "    map_label_to_int = dict(zip(audio_labels,audio_labels_int))\n",
        "    Data['class_int'] = Data['label'].map(map_label_to_int)\n",
        "    #N = Data['label'].size\n",
        "\n",
        "    spec_lst = [[] for i in range(10)]\n",
        "\n",
        "    for spec_name,label in spec_label.items():\n",
        "      if(label=='Bark'):\n",
        "       spec_lst[0].append(spec_name)\n",
        "       random.shuffle(spec_lst[0])\n",
        "\n",
        "      elif(label=='Meow'):\n",
        "       spec_lst[1].append(spec_name)\n",
        "       random.shuffle(spec_lst[1])\n",
        "\n",
        "      elif(label=='Siren'):\n",
        "       spec_lst[2].append(spec_name)\n",
        "       random.shuffle(spec_lst[2])\n",
        "\n",
        "      elif(label=='Shatter'):\n",
        "       spec_lst[3].append(spec_name)\n",
        "       random.shuffle(spec_lst[3])\n",
        "\n",
        "      elif(label=='Knock') :\n",
        "       spec_lst[4].append(spec_name)\n",
        "       random.shuffle(spec_lst[4])\n",
        "\n",
        "      elif(label=='Crying_and_sobbing'):\n",
        "       spec_lst[5].append(spec_name)\n",
        "       random.shuffle(spec_lst[5])\n",
        "\n",
        "      elif(label=='Microwave_oven'):\n",
        "       spec_lst[6].append(spec_name)\n",
        "       random.shuffle(spec_lst[6])\n",
        "\n",
        "      elif(label=='Vehicle_horn_and_car_horn_and_honking'):\n",
        "       spec_lst[7].append(spec_name)\n",
        "       random.shuffle(spec_lst[7])\n",
        "\n",
        "      elif(label=='Doorbell'):\n",
        "       spec_lst[8].append(spec_name)\n",
        "       random.shuffle(spec_lst[8])\n",
        "\n",
        "      elif(label=='Walk_and_footsteps'):\n",
        "       spec_lst[9].append(spec_name)  \n",
        "       random.shuffle(spec_lst[9]) \n",
        "      \n",
        "    spec_lst_train = [[] for i in range(10)]\n",
        "    spec_lst_test = [[] for i in range(10)]\n",
        "\n",
        "    spec_lst_train[0] = spec_lst[0][0:50]\n",
        "    spec_lst_test[0] = spec_lst[0][50:]\n",
        "\n",
        "    spec_lst_train[1] = spec_lst[1][0:50]\n",
        "    spec_lst_test[1] = spec_lst[1][50:]\n",
        "\n",
        "    spec_lst_train[2] = spec_lst[2][0:50]\n",
        "    spec_lst_test[2] = spec_lst[2][50:]\n",
        "\n",
        "    spec_lst_train[3] = spec_lst[3][0:50]\n",
        "    spec_lst_test[3] = spec_lst[3][50:]\n",
        "\n",
        "    spec_lst_train[4] = spec_lst[4][0:50]\n",
        "    spec_lst_test[4] = spec_lst[4][50:]\n",
        "\n",
        "    spec_lst_train[5] = spec_lst[5][0:50]\n",
        "    spec_lst_test[5] = spec_lst[5][50:]\n",
        "\n",
        "    spec_lst_train[6] = spec_lst[6][0:50]\n",
        "    spec_lst_test[6] = spec_lst[6][50:]\n",
        "\n",
        "    spec_lst_train[7] = spec_lst[7][0:50]\n",
        "    spec_lst_test[7] = spec_lst[7][50:]\n",
        "\n",
        "    spec_lst_train[8] = spec_lst[8][0:50]\n",
        "    spec_lst_test[8] = spec_lst[8][50:]\n",
        "\n",
        "    spec_lst_train[9] = spec_lst[9][0:50]\n",
        "    spec_lst_test[9] = spec_lst[9][50:]  \n",
        "\n",
        "    spec_lst_train_data = []\n",
        "    pred_train_data = []\n",
        "    spec_lst_test_data = []\n",
        "    pred_test_data = []\n",
        "\n",
        "    for i in range(len(spec_lst_train)):\n",
        "      for j in range(len(spec_lst_train[i])):\n",
        "        spec_lst_train_data.append(spec_resize(np.load(train_directory+\"/\"+spec_lst_train[i][j])))\n",
        "        #spec_lst_train_data.append(np.load(train_directory+\"/\"+spec_lst_train[i][j]))\n",
        "        pred_train_data.append(map_label_to_int[spec_label[spec_lst_train[i][j]]])\n",
        "\n",
        "    for i in range(len(spec_lst_test)):\n",
        "      for j in range(len(spec_lst_test[i])):\n",
        "        spec_lst_test_data.append(spec_resize(np.load(train_directory+\"/\"+spec_lst_test[i][j])))\n",
        "        #spec_lst_test_data.append(np.load(train_directory+\"/\"+spec_lst_test[i][j]))\n",
        "        pred_test_data.append(map_label_to_int[spec_label[spec_lst_test[i][j]]]) \n",
        "\n",
        "    merg_lst = list(zip(spec_lst_train_data, pred_train_data)) \n",
        "    random.shuffle(merg_lst) \n",
        "    spec_lst_train_data, pred_train_data = zip(*merg_lst)     \n",
        "\n",
        "    merg_lst = list(zip(spec_lst_test_data, pred_test_data)) \n",
        "    random.shuffle(merg_lst) \n",
        "    spec_lst_test_data, pred_test_data = zip(*merg_lst)    \n",
        "\n",
        "    spec_lst_train_data = np.array(spec_lst_train_data)\n",
        "    pred_train_data = np.hstack(pred_train_data)\n",
        "    size = pred_train_data.size\n",
        "    pred_train_data = pred_train_data.reshape(size,1)\n",
        "\n",
        "    spec_lst_test_data = np.array(spec_lst_test_data)\n",
        "    pred_test_data = np.hstack(pred_test_data)\n",
        "    size = pred_test_data.size\n",
        "    pred_test_data = pred_test_data.reshape(size,1)\n",
        "\n",
        "    return spec_lst_train_data,spec_lst_test_data,pred_train_data,pred_test_data,no_audio_classes"
      ],
      "metadata": {
        "id": "ZBWQUxoJSlT9"
      },
      "execution_count": 85,
      "outputs": []
    },
    {
      "cell_type": "markdown",
      "source": [
        "# **CNN Model**"
      ],
      "metadata": {
        "id": "w_qZm-6Oj-Yn"
      }
    },
    {
      "cell_type": "code",
      "source": [
        "def Conv2D(no_classes,input_data):\n",
        "    inputs = keras.Input(shape = input_data)\n",
        "    x = keras.layers.LayerNormalization(axis=2, name='batch_norm')(inputs)\n",
        "    x = keras.layers.Conv2D(8, kernel_size=(7,7), activation='relu', padding='same', name='conv2d_relu_1')(x)\n",
        "    x = keras.layers.MaxPooling2D(pool_size=(2,2), padding='same', name='max_pool_2d_1')(x)\n",
        "    x = keras.layers.Dropout(rate=0.2, name='dropout_1')(x)\n",
        "    x = keras.layers.Conv2D(16, kernel_size=(5,5), activation='relu', padding='same', name='conv2d_relu_2')(x)\n",
        "    x = keras.layers.MaxPooling2D(pool_size=(2,2), padding='same', name='max_pool_2d_2')(x)\n",
        "    x = keras.layers.Dropout(rate=0.2, name='dropout_2')(x)\n",
        "    x = keras.layers.Conv2D(16, kernel_size=(3,3), activation='relu', padding='same', name='conv2d_relu_3')(x)\n",
        "    x = keras.layers.MaxPooling2D(pool_size=(2,2), padding='same', name='max_pool_2d_3')(x)\n",
        "    x = keras.layers.Dropout(rate=0.2, name='dropout_3')(x)\n",
        "    x = keras.layers.Conv2D(32, kernel_size=(3,3), activation='relu', padding='same', name='conv2d_relu_4')(x)\n",
        "    x = keras.layers.MaxPooling2D(pool_size=(2,2), padding='same', name='max_pool_2d_4')(x)\n",
        "    x = keras.layers.Dropout(rate=0.2, name='dropout_4')(x)\n",
        "    x = keras.layers.MaxPooling2D(pool_size=(2,2), padding='same', name='max_pool_2d_5')(x)\n",
        "    x = keras.layers.Flatten(name='flatten')(x)\n",
        "    x = keras.layers.Dropout(rate=0.2, name='dropout_5')(x)\n",
        "    x = keras.layers.Dense(64, activation='relu', activity_regularizer=tf.keras.regularizers.l2(0.001), name='dense')(x)\n",
        "    output_layer = keras.layers.Dense(no_classes, activation='softmax', name='softmax')(x)\n",
        "    cnn_model = tf.keras.Model(inputs=inputs, outputs=output_layer, name='2d_convolution')\n",
        "    cnn_model.compile(optimizer='adam', loss='categorical_crossentropy', metrics=['accuracy'])\n",
        "    return cnn_model"
      ],
      "metadata": {
        "id": "Nk5j38WnkKJs"
      },
      "execution_count": 86,
      "outputs": []
    },
    {
      "cell_type": "markdown",
      "source": [
        "# **Model Traning**"
      ],
      "metadata": {
        "id": "ktYofzHIkPan"
      }
    },
    {
      "cell_type": "code",
      "source": [
        "def cnn_training(spec_train_data,label_train_data,spec_test_data,label_test_data,no_audio_classes,no_epochs):\n",
        "    \n",
        "    label_train_data = keras.utils.to_categorical(label_train_data,no_audio_classes)\n",
        "    spec_train_data = spec_train_data.reshape(spec_train_data.shape[0],spec_train_data.shape[1],spec_train_data.shape[2],1)\n",
        "\n",
        "    label_test_data = keras.utils.to_categorical(label_test_data,no_audio_classes)\n",
        "    spec_test_data = spec_test_data.reshape(spec_test_data.shape[0],spec_test_data.shape[1],spec_test_data.shape[2],1)\n",
        "\n",
        "\n",
        "    input_shape = tuple(spec_train_data[0].shape)\n",
        "\n",
        "    Model1 = Conv2D(no_audio_classes, input_shape)\n",
        "    history = Model1.fit(\n",
        "    x=spec_train_data, y=label_train_data,\n",
        "    validation_split = 0.2,\n",
        "    verbose=2,\n",
        "    epochs=no_epochs,\n",
        "    shuffle = True,\n",
        "    batch_size=32)\n",
        "\n",
        "    Model1.evaluate(spec_test_data,label_test_data)\n",
        "\n",
        "    return Model1"
      ],
      "metadata": {
        "id": "RF3O5K7FkV2B"
      },
      "execution_count": 87,
      "outputs": []
    },
    {
      "cell_type": "code",
      "source": [
        "def save_model(model,filename):\n",
        "    model.save(filename)\n",
        "    return"
      ],
      "metadata": {
        "id": "pPzoMLd6kd2i"
      },
      "execution_count": 11,
      "outputs": []
    },
    {
      "cell_type": "code",
      "source": [
        "def load_model(filename):\n",
        "    model = keras.models.load_model(filename)\n",
        "    return model"
      ],
      "metadata": {
        "id": "A9XRuduBkeij"
      },
      "execution_count": 12,
      "outputs": []
    },
    {
      "cell_type": "markdown",
      "source": [
        "# **Evaluation: Accuracy of the Model**"
      ],
      "metadata": {
        "id": "hI2FLxBDkk_B"
      }
    },
    {
      "cell_type": "code",
      "source": [
        "d1 = \"/content/drive/MyDrive/EE603_Assignment/train\"\n",
        "d2 = \"/content/drive/MyDrive/EE603_Assignment/annotations.csv\"\n",
        "X_train_data,X_test_data, Y_train_data,Y_test_data,NUM_CLASSES = train_test_data_split(d1,d2)\n",
        "print(X_train_data.shape,Y_test_data.shape)"
      ],
      "metadata": {
        "colab": {
          "base_uri": "https://localhost:8080/"
        },
        "id": "ogYrR7lOkhXm",
        "outputId": "d6651f82-a85d-4971-cb54-d42e2133edcc"
      },
      "execution_count": 13,
      "outputs": [
        {
          "output_type": "stream",
          "name": "stdout",
          "text": [
            "(500, 128, 500) (500, 1)\n"
          ]
        }
      ]
    },
    {
      "cell_type": "code",
      "source": [
        "epochs = 200\n",
        "m= cnn_training(X_train_data,Y_train_data,X_test_data,Y_test_data,NUM_CLASSES,epochs)\n"
      ],
      "metadata": {
        "colab": {
          "base_uri": "https://localhost:8080/"
        },
        "id": "_jM2FcNbk0sZ",
        "outputId": "c2056b1d-63ac-41ed-ac77-359af9b64c42"
      },
      "execution_count": 14,
      "outputs": [
        {
          "output_type": "stream",
          "name": "stdout",
          "text": [
            "Epoch 1/200\n",
            "13/13 - 32s - loss: 2.4076 - accuracy: 0.1025 - val_loss: 2.2752 - val_accuracy: 0.1800 - 32s/epoch - 2s/step\n",
            "Epoch 2/200\n",
            "13/13 - 30s - loss: 2.2367 - accuracy: 0.1650 - val_loss: 2.2395 - val_accuracy: 0.1900 - 30s/epoch - 2s/step\n",
            "Epoch 3/200\n",
            "13/13 - 30s - loss: 2.0872 - accuracy: 0.2400 - val_loss: 2.0929 - val_accuracy: 0.3700 - 30s/epoch - 2s/step\n",
            "Epoch 4/200\n",
            "13/13 - 32s - loss: 1.9149 - accuracy: 0.3175 - val_loss: 1.9432 - val_accuracy: 0.4100 - 32s/epoch - 2s/step\n",
            "Epoch 5/200\n",
            "13/13 - 30s - loss: 1.7281 - accuracy: 0.4425 - val_loss: 1.7703 - val_accuracy: 0.4100 - 30s/epoch - 2s/step\n",
            "Epoch 6/200\n",
            "13/13 - 30s - loss: 1.5972 - accuracy: 0.4825 - val_loss: 1.7323 - val_accuracy: 0.4700 - 30s/epoch - 2s/step\n",
            "Epoch 7/200\n",
            "13/13 - 30s - loss: 1.4336 - accuracy: 0.5550 - val_loss: 1.6073 - val_accuracy: 0.5200 - 30s/epoch - 2s/step\n",
            "Epoch 8/200\n",
            "13/13 - 30s - loss: 1.3108 - accuracy: 0.6275 - val_loss: 1.5703 - val_accuracy: 0.5300 - 30s/epoch - 2s/step\n",
            "Epoch 9/200\n",
            "13/13 - 30s - loss: 1.2007 - accuracy: 0.6700 - val_loss: 1.4513 - val_accuracy: 0.5900 - 30s/epoch - 2s/step\n",
            "Epoch 10/200\n",
            "13/13 - 32s - loss: 1.1046 - accuracy: 0.6875 - val_loss: 1.4297 - val_accuracy: 0.5700 - 32s/epoch - 2s/step\n",
            "Epoch 11/200\n",
            "13/13 - 30s - loss: 0.9831 - accuracy: 0.7400 - val_loss: 1.4111 - val_accuracy: 0.5800 - 30s/epoch - 2s/step\n",
            "Epoch 12/200\n",
            "13/13 - 30s - loss: 0.8768 - accuracy: 0.8000 - val_loss: 1.3731 - val_accuracy: 0.5500 - 30s/epoch - 2s/step\n",
            "Epoch 13/200\n",
            "13/13 - 30s - loss: 0.7482 - accuracy: 0.8350 - val_loss: 1.3935 - val_accuracy: 0.5700 - 30s/epoch - 2s/step\n",
            "Epoch 14/200\n",
            "13/13 - 30s - loss: 0.6848 - accuracy: 0.8725 - val_loss: 1.4346 - val_accuracy: 0.5400 - 30s/epoch - 2s/step\n",
            "Epoch 15/200\n",
            "13/13 - 30s - loss: 0.6229 - accuracy: 0.8925 - val_loss: 1.2974 - val_accuracy: 0.6100 - 30s/epoch - 2s/step\n",
            "Epoch 16/200\n",
            "13/13 - 32s - loss: 0.5975 - accuracy: 0.9050 - val_loss: 1.3275 - val_accuracy: 0.6500 - 32s/epoch - 2s/step\n",
            "Epoch 17/200\n",
            "13/13 - 30s - loss: 0.5567 - accuracy: 0.9125 - val_loss: 1.2256 - val_accuracy: 0.6600 - 30s/epoch - 2s/step\n",
            "Epoch 18/200\n",
            "13/13 - 30s - loss: 0.4919 - accuracy: 0.9400 - val_loss: 1.2662 - val_accuracy: 0.6600 - 30s/epoch - 2s/step\n",
            "Epoch 19/200\n",
            "13/13 - 30s - loss: 0.4491 - accuracy: 0.9525 - val_loss: 1.2545 - val_accuracy: 0.6800 - 30s/epoch - 2s/step\n",
            "Epoch 20/200\n",
            "13/13 - 30s - loss: 0.4342 - accuracy: 0.9600 - val_loss: 1.2922 - val_accuracy: 0.6500 - 30s/epoch - 2s/step\n",
            "Epoch 21/200\n",
            "13/13 - 30s - loss: 0.4046 - accuracy: 0.9750 - val_loss: 1.1767 - val_accuracy: 0.6800 - 30s/epoch - 2s/step\n",
            "Epoch 22/200\n",
            "13/13 - 30s - loss: 0.3939 - accuracy: 0.9750 - val_loss: 1.1682 - val_accuracy: 0.6900 - 30s/epoch - 2s/step\n",
            "Epoch 23/200\n",
            "13/13 - 32s - loss: 0.3466 - accuracy: 0.9875 - val_loss: 1.1483 - val_accuracy: 0.6700 - 32s/epoch - 2s/step\n",
            "Epoch 24/200\n",
            "13/13 - 30s - loss: 0.3303 - accuracy: 0.9950 - val_loss: 1.1519 - val_accuracy: 0.6900 - 30s/epoch - 2s/step\n",
            "Epoch 25/200\n",
            "13/13 - 30s - loss: 0.3206 - accuracy: 0.9875 - val_loss: 1.1125 - val_accuracy: 0.6800 - 30s/epoch - 2s/step\n",
            "Epoch 26/200\n",
            "13/13 - 30s - loss: 0.3082 - accuracy: 0.9800 - val_loss: 1.0906 - val_accuracy: 0.7100 - 30s/epoch - 2s/step\n",
            "Epoch 27/200\n",
            "13/13 - 30s - loss: 0.3007 - accuracy: 0.9850 - val_loss: 1.0623 - val_accuracy: 0.7000 - 30s/epoch - 2s/step\n",
            "Epoch 28/200\n",
            "13/13 - 30s - loss: 0.2900 - accuracy: 0.9900 - val_loss: 1.0734 - val_accuracy: 0.7200 - 30s/epoch - 2s/step\n",
            "Epoch 29/200\n",
            "13/13 - 32s - loss: 0.2728 - accuracy: 0.9900 - val_loss: 1.0885 - val_accuracy: 0.6800 - 32s/epoch - 2s/step\n",
            "Epoch 30/200\n",
            "13/13 - 30s - loss: 0.2613 - accuracy: 0.9900 - val_loss: 1.0602 - val_accuracy: 0.6800 - 30s/epoch - 2s/step\n",
            "Epoch 31/200\n",
            "13/13 - 30s - loss: 0.2577 - accuracy: 0.9925 - val_loss: 1.0689 - val_accuracy: 0.7000 - 30s/epoch - 2s/step\n",
            "Epoch 32/200\n",
            "13/13 - 32s - loss: 0.2492 - accuracy: 0.9950 - val_loss: 1.0813 - val_accuracy: 0.7100 - 32s/epoch - 2s/step\n",
            "Epoch 33/200\n",
            "13/13 - 30s - loss: 0.2352 - accuracy: 0.9975 - val_loss: 1.0236 - val_accuracy: 0.7100 - 30s/epoch - 2s/step\n",
            "Epoch 34/200\n",
            "13/13 - 30s - loss: 0.2317 - accuracy: 0.9875 - val_loss: 1.0417 - val_accuracy: 0.7100 - 30s/epoch - 2s/step\n",
            "Epoch 35/200\n",
            "13/13 - 32s - loss: 0.2269 - accuracy: 0.9950 - val_loss: 1.0733 - val_accuracy: 0.7100 - 32s/epoch - 2s/step\n",
            "Epoch 36/200\n",
            "13/13 - 30s - loss: 0.2177 - accuracy: 0.9950 - val_loss: 1.0658 - val_accuracy: 0.7100 - 30s/epoch - 2s/step\n",
            "Epoch 37/200\n",
            "13/13 - 30s - loss: 0.2054 - accuracy: 1.0000 - val_loss: 1.0230 - val_accuracy: 0.7200 - 30s/epoch - 2s/step\n",
            "Epoch 38/200\n",
            "13/13 - 30s - loss: 0.2024 - accuracy: 1.0000 - val_loss: 1.0381 - val_accuracy: 0.7300 - 30s/epoch - 2s/step\n",
            "Epoch 39/200\n",
            "13/13 - 30s - loss: 0.1946 - accuracy: 1.0000 - val_loss: 1.0144 - val_accuracy: 0.7400 - 30s/epoch - 2s/step\n",
            "Epoch 40/200\n",
            "13/13 - 30s - loss: 0.1931 - accuracy: 0.9925 - val_loss: 1.0136 - val_accuracy: 0.7200 - 30s/epoch - 2s/step\n",
            "Epoch 41/200\n",
            "13/13 - 30s - loss: 0.1840 - accuracy: 1.0000 - val_loss: 1.0684 - val_accuracy: 0.7100 - 30s/epoch - 2s/step\n",
            "Epoch 42/200\n",
            "13/13 - 32s - loss: 0.1924 - accuracy: 0.9950 - val_loss: 0.9956 - val_accuracy: 0.7300 - 32s/epoch - 2s/step\n",
            "Epoch 43/200\n",
            "13/13 - 30s - loss: 0.1893 - accuracy: 1.0000 - val_loss: 0.9666 - val_accuracy: 0.7100 - 30s/epoch - 2s/step\n",
            "Epoch 44/200\n",
            "13/13 - 30s - loss: 0.1813 - accuracy: 0.9950 - val_loss: 0.9455 - val_accuracy: 0.7300 - 30s/epoch - 2s/step\n",
            "Epoch 45/200\n",
            "13/13 - 30s - loss: 0.1770 - accuracy: 1.0000 - val_loss: 0.9528 - val_accuracy: 0.7200 - 30s/epoch - 2s/step\n",
            "Epoch 46/200\n",
            "13/13 - 30s - loss: 0.1655 - accuracy: 0.9975 - val_loss: 1.0048 - val_accuracy: 0.7100 - 30s/epoch - 2s/step\n",
            "Epoch 47/200\n",
            "13/13 - 30s - loss: 0.1708 - accuracy: 1.0000 - val_loss: 0.9451 - val_accuracy: 0.7300 - 30s/epoch - 2s/step\n",
            "Epoch 48/200\n",
            "13/13 - 32s - loss: 0.1683 - accuracy: 1.0000 - val_loss: 0.9555 - val_accuracy: 0.7100 - 32s/epoch - 2s/step\n",
            "Epoch 49/200\n",
            "13/13 - 30s - loss: 0.1602 - accuracy: 0.9975 - val_loss: 0.9609 - val_accuracy: 0.7100 - 30s/epoch - 2s/step\n",
            "Epoch 50/200\n",
            "13/13 - 30s - loss: 0.1543 - accuracy: 0.9975 - val_loss: 0.9672 - val_accuracy: 0.7200 - 30s/epoch - 2s/step\n",
            "Epoch 51/200\n",
            "13/13 - 30s - loss: 0.1574 - accuracy: 0.9975 - val_loss: 0.9358 - val_accuracy: 0.7100 - 30s/epoch - 2s/step\n",
            "Epoch 52/200\n",
            "13/13 - 30s - loss: 0.1543 - accuracy: 1.0000 - val_loss: 0.9716 - val_accuracy: 0.7100 - 30s/epoch - 2s/step\n",
            "Epoch 53/200\n",
            "13/13 - 30s - loss: 0.1439 - accuracy: 1.0000 - val_loss: 0.9582 - val_accuracy: 0.7300 - 30s/epoch - 2s/step\n",
            "Epoch 54/200\n",
            "13/13 - 32s - loss: 0.1471 - accuracy: 1.0000 - val_loss: 0.9553 - val_accuracy: 0.7300 - 32s/epoch - 2s/step\n",
            "Epoch 55/200\n",
            "13/13 - 30s - loss: 0.1461 - accuracy: 1.0000 - val_loss: 0.9699 - val_accuracy: 0.7400 - 30s/epoch - 2s/step\n",
            "Epoch 56/200\n",
            "13/13 - 30s - loss: 0.1407 - accuracy: 1.0000 - val_loss: 0.9247 - val_accuracy: 0.7400 - 30s/epoch - 2s/step\n",
            "Epoch 57/200\n",
            "13/13 - 30s - loss: 0.1408 - accuracy: 1.0000 - val_loss: 0.9273 - val_accuracy: 0.7200 - 30s/epoch - 2s/step\n",
            "Epoch 58/200\n",
            "13/13 - 30s - loss: 0.1305 - accuracy: 1.0000 - val_loss: 0.9383 - val_accuracy: 0.7300 - 30s/epoch - 2s/step\n",
            "Epoch 59/200\n",
            "13/13 - 30s - loss: 0.1355 - accuracy: 0.9975 - val_loss: 0.9239 - val_accuracy: 0.7400 - 30s/epoch - 2s/step\n",
            "Epoch 60/200\n",
            "13/13 - 32s - loss: 0.1415 - accuracy: 0.9975 - val_loss: 0.9311 - val_accuracy: 0.7100 - 32s/epoch - 2s/step\n",
            "Epoch 61/200\n",
            "13/13 - 30s - loss: 0.1335 - accuracy: 1.0000 - val_loss: 0.9022 - val_accuracy: 0.7500 - 30s/epoch - 2s/step\n",
            "Epoch 62/200\n",
            "13/13 - 30s - loss: 0.1320 - accuracy: 1.0000 - val_loss: 0.9383 - val_accuracy: 0.7300 - 30s/epoch - 2s/step\n",
            "Epoch 63/200\n",
            "13/13 - 30s - loss: 0.1292 - accuracy: 1.0000 - val_loss: 0.9467 - val_accuracy: 0.7200 - 30s/epoch - 2s/step\n",
            "Epoch 64/200\n",
            "13/13 - 30s - loss: 0.1236 - accuracy: 1.0000 - val_loss: 0.9510 - val_accuracy: 0.7200 - 30s/epoch - 2s/step\n",
            "Epoch 65/200\n",
            "13/13 - 30s - loss: 0.1212 - accuracy: 1.0000 - val_loss: 0.9518 - val_accuracy: 0.7400 - 30s/epoch - 2s/step\n",
            "Epoch 66/200\n",
            "13/13 - 30s - loss: 0.1220 - accuracy: 1.0000 - val_loss: 0.9124 - val_accuracy: 0.7300 - 30s/epoch - 2s/step\n",
            "Epoch 67/200\n",
            "13/13 - 32s - loss: 0.1187 - accuracy: 1.0000 - val_loss: 0.9483 - val_accuracy: 0.7300 - 32s/epoch - 2s/step\n",
            "Epoch 68/200\n",
            "13/13 - 30s - loss: 0.1172 - accuracy: 1.0000 - val_loss: 0.9032 - val_accuracy: 0.7400 - 30s/epoch - 2s/step\n",
            "Epoch 69/200\n",
            "13/13 - 30s - loss: 0.1130 - accuracy: 1.0000 - val_loss: 0.9110 - val_accuracy: 0.7200 - 30s/epoch - 2s/step\n",
            "Epoch 70/200\n",
            "13/13 - 30s - loss: 0.1206 - accuracy: 1.0000 - val_loss: 0.9558 - val_accuracy: 0.7200 - 30s/epoch - 2s/step\n",
            "Epoch 71/200\n",
            "13/13 - 30s - loss: 0.1156 - accuracy: 1.0000 - val_loss: 0.9093 - val_accuracy: 0.7200 - 30s/epoch - 2s/step\n",
            "Epoch 72/200\n",
            "13/13 - 30s - loss: 0.1169 - accuracy: 1.0000 - val_loss: 0.8848 - val_accuracy: 0.7300 - 30s/epoch - 2s/step\n",
            "Epoch 73/200\n",
            "13/13 - 32s - loss: 0.1105 - accuracy: 1.0000 - val_loss: 0.9346 - val_accuracy: 0.7200 - 32s/epoch - 2s/step\n",
            "Epoch 74/200\n",
            "13/13 - 30s - loss: 0.1088 - accuracy: 1.0000 - val_loss: 0.9483 - val_accuracy: 0.7300 - 30s/epoch - 2s/step\n",
            "Epoch 75/200\n",
            "13/13 - 30s - loss: 0.1091 - accuracy: 1.0000 - val_loss: 0.9318 - val_accuracy: 0.7300 - 30s/epoch - 2s/step\n",
            "Epoch 76/200\n",
            "13/13 - 30s - loss: 0.1086 - accuracy: 1.0000 - val_loss: 0.9051 - val_accuracy: 0.7400 - 30s/epoch - 2s/step\n",
            "Epoch 77/200\n",
            "13/13 - 29s - loss: 0.1045 - accuracy: 1.0000 - val_loss: 0.9030 - val_accuracy: 0.7500 - 29s/epoch - 2s/step\n",
            "Epoch 78/200\n",
            "13/13 - 30s - loss: 0.1007 - accuracy: 1.0000 - val_loss: 0.8720 - val_accuracy: 0.7500 - 30s/epoch - 2s/step\n",
            "Epoch 79/200\n",
            "13/13 - 32s - loss: 0.1034 - accuracy: 1.0000 - val_loss: 0.8794 - val_accuracy: 0.7400 - 32s/epoch - 2s/step\n",
            "Epoch 80/200\n",
            "13/13 - 29s - loss: 0.1024 - accuracy: 1.0000 - val_loss: 0.9047 - val_accuracy: 0.7400 - 29s/epoch - 2s/step\n",
            "Epoch 81/200\n",
            "13/13 - 29s - loss: 0.1008 - accuracy: 1.0000 - val_loss: 0.8862 - val_accuracy: 0.7300 - 29s/epoch - 2s/step\n",
            "Epoch 82/200\n",
            "13/13 - 29s - loss: 0.1009 - accuracy: 1.0000 - val_loss: 0.8712 - val_accuracy: 0.7500 - 29s/epoch - 2s/step\n",
            "Epoch 83/200\n",
            "13/13 - 29s - loss: 0.1013 - accuracy: 1.0000 - val_loss: 0.9161 - val_accuracy: 0.7400 - 29s/epoch - 2s/step\n",
            "Epoch 84/200\n",
            "13/13 - 30s - loss: 0.1007 - accuracy: 1.0000 - val_loss: 0.8982 - val_accuracy: 0.7500 - 30s/epoch - 2s/step\n",
            "Epoch 85/200\n",
            "13/13 - 32s - loss: 0.1000 - accuracy: 1.0000 - val_loss: 0.9197 - val_accuracy: 0.7400 - 32s/epoch - 2s/step\n",
            "Epoch 86/200\n",
            "13/13 - 29s - loss: 0.0944 - accuracy: 1.0000 - val_loss: 0.9059 - val_accuracy: 0.7200 - 29s/epoch - 2s/step\n",
            "Epoch 87/200\n",
            "13/13 - 29s - loss: 0.0990 - accuracy: 0.9975 - val_loss: 0.9041 - val_accuracy: 0.7300 - 29s/epoch - 2s/step\n",
            "Epoch 88/200\n",
            "13/13 - 29s - loss: 0.0933 - accuracy: 1.0000 - val_loss: 0.9078 - val_accuracy: 0.7400 - 29s/epoch - 2s/step\n",
            "Epoch 89/200\n",
            "13/13 - 29s - loss: 0.0943 - accuracy: 1.0000 - val_loss: 0.9290 - val_accuracy: 0.7300 - 29s/epoch - 2s/step\n",
            "Epoch 90/200\n",
            "13/13 - 29s - loss: 0.0950 - accuracy: 1.0000 - val_loss: 0.9070 - val_accuracy: 0.7300 - 29s/epoch - 2s/step\n",
            "Epoch 91/200\n",
            "13/13 - 29s - loss: 0.0941 - accuracy: 1.0000 - val_loss: 0.8625 - val_accuracy: 0.7400 - 29s/epoch - 2s/step\n",
            "Epoch 92/200\n",
            "13/13 - 32s - loss: 0.0946 - accuracy: 1.0000 - val_loss: 0.8966 - val_accuracy: 0.7100 - 32s/epoch - 2s/step\n",
            "Epoch 93/200\n",
            "13/13 - 29s - loss: 0.0913 - accuracy: 1.0000 - val_loss: 0.9130 - val_accuracy: 0.7200 - 29s/epoch - 2s/step\n",
            "Epoch 94/200\n",
            "13/13 - 29s - loss: 0.0896 - accuracy: 0.9975 - val_loss: 0.9020 - val_accuracy: 0.7200 - 29s/epoch - 2s/step\n",
            "Epoch 95/200\n",
            "13/13 - 29s - loss: 0.1019 - accuracy: 0.9975 - val_loss: 1.0098 - val_accuracy: 0.7100 - 29s/epoch - 2s/step\n",
            "Epoch 96/200\n",
            "13/13 - 29s - loss: 0.0911 - accuracy: 1.0000 - val_loss: 0.8708 - val_accuracy: 0.7400 - 29s/epoch - 2s/step\n",
            "Epoch 97/200\n",
            "13/13 - 29s - loss: 0.0900 - accuracy: 1.0000 - val_loss: 0.9325 - val_accuracy: 0.6900 - 29s/epoch - 2s/step\n",
            "Epoch 98/200\n",
            "13/13 - 31s - loss: 0.0879 - accuracy: 1.0000 - val_loss: 0.8940 - val_accuracy: 0.7200 - 31s/epoch - 2s/step\n",
            "Epoch 99/200\n",
            "13/13 - 29s - loss: 0.0883 - accuracy: 1.0000 - val_loss: 0.8898 - val_accuracy: 0.7300 - 29s/epoch - 2s/step\n",
            "Epoch 100/200\n",
            "13/13 - 30s - loss: 0.0843 - accuracy: 1.0000 - val_loss: 0.9418 - val_accuracy: 0.7100 - 30s/epoch - 2s/step\n",
            "Epoch 101/200\n",
            "13/13 - 30s - loss: 0.0848 - accuracy: 1.0000 - val_loss: 0.8939 - val_accuracy: 0.7400 - 30s/epoch - 2s/step\n",
            "Epoch 102/200\n",
            "13/13 - 29s - loss: 0.0833 - accuracy: 1.0000 - val_loss: 0.8953 - val_accuracy: 0.7300 - 29s/epoch - 2s/step\n",
            "Epoch 103/200\n",
            "13/13 - 29s - loss: 0.0818 - accuracy: 1.0000 - val_loss: 0.8902 - val_accuracy: 0.7400 - 29s/epoch - 2s/step\n",
            "Epoch 104/200\n",
            "13/13 - 31s - loss: 0.0807 - accuracy: 1.0000 - val_loss: 0.8647 - val_accuracy: 0.7400 - 31s/epoch - 2s/step\n",
            "Epoch 105/200\n",
            "13/13 - 30s - loss: 0.0792 - accuracy: 1.0000 - val_loss: 0.8975 - val_accuracy: 0.7300 - 30s/epoch - 2s/step\n",
            "Epoch 106/200\n",
            "13/13 - 29s - loss: 0.0762 - accuracy: 1.0000 - val_loss: 0.8819 - val_accuracy: 0.7600 - 29s/epoch - 2s/step\n",
            "Epoch 107/200\n",
            "13/13 - 29s - loss: 0.0770 - accuracy: 1.0000 - val_loss: 0.8870 - val_accuracy: 0.7200 - 29s/epoch - 2s/step\n",
            "Epoch 108/200\n",
            "13/13 - 29s - loss: 0.0772 - accuracy: 1.0000 - val_loss: 0.8973 - val_accuracy: 0.7500 - 29s/epoch - 2s/step\n",
            "Epoch 109/200\n",
            "13/13 - 29s - loss: 0.0767 - accuracy: 1.0000 - val_loss: 0.8888 - val_accuracy: 0.7400 - 29s/epoch - 2s/step\n",
            "Epoch 110/200\n",
            "13/13 - 29s - loss: 0.0758 - accuracy: 1.0000 - val_loss: 0.8780 - val_accuracy: 0.7300 - 29s/epoch - 2s/step\n",
            "Epoch 111/200\n",
            "13/13 - 31s - loss: 0.0749 - accuracy: 1.0000 - val_loss: 0.9016 - val_accuracy: 0.7400 - 31s/epoch - 2s/step\n",
            "Epoch 112/200\n",
            "13/13 - 29s - loss: 0.0759 - accuracy: 1.0000 - val_loss: 0.8685 - val_accuracy: 0.7400 - 29s/epoch - 2s/step\n",
            "Epoch 113/200\n",
            "13/13 - 29s - loss: 0.0738 - accuracy: 1.0000 - val_loss: 0.8831 - val_accuracy: 0.7400 - 29s/epoch - 2s/step\n",
            "Epoch 114/200\n",
            "13/13 - 29s - loss: 0.0746 - accuracy: 1.0000 - val_loss: 0.9000 - val_accuracy: 0.7200 - 29s/epoch - 2s/step\n",
            "Epoch 115/200\n",
            "13/13 - 29s - loss: 0.0733 - accuracy: 1.0000 - val_loss: 0.8936 - val_accuracy: 0.7100 - 29s/epoch - 2s/step\n",
            "Epoch 116/200\n",
            "13/13 - 29s - loss: 0.0728 - accuracy: 1.0000 - val_loss: 0.8601 - val_accuracy: 0.7400 - 29s/epoch - 2s/step\n",
            "Epoch 117/200\n",
            "13/13 - 31s - loss: 0.0726 - accuracy: 1.0000 - val_loss: 0.8770 - val_accuracy: 0.7400 - 31s/epoch - 2s/step\n",
            "Epoch 118/200\n",
            "13/13 - 29s - loss: 0.0723 - accuracy: 1.0000 - val_loss: 0.8871 - val_accuracy: 0.7300 - 29s/epoch - 2s/step\n",
            "Epoch 119/200\n",
            "13/13 - 29s - loss: 0.0723 - accuracy: 1.0000 - val_loss: 0.8977 - val_accuracy: 0.7300 - 29s/epoch - 2s/step\n",
            "Epoch 120/200\n",
            "13/13 - 29s - loss: 0.0727 - accuracy: 1.0000 - val_loss: 0.9051 - val_accuracy: 0.7200 - 29s/epoch - 2s/step\n",
            "Epoch 121/200\n",
            "13/13 - 29s - loss: 0.0705 - accuracy: 1.0000 - val_loss: 0.8920 - val_accuracy: 0.7300 - 29s/epoch - 2s/step\n",
            "Epoch 122/200\n",
            "13/13 - 29s - loss: 0.0699 - accuracy: 1.0000 - val_loss: 0.8937 - val_accuracy: 0.7300 - 29s/epoch - 2s/step\n",
            "Epoch 123/200\n",
            "13/13 - 29s - loss: 0.0693 - accuracy: 1.0000 - val_loss: 0.8651 - val_accuracy: 0.7400 - 29s/epoch - 2s/step\n",
            "Epoch 124/200\n",
            "13/13 - 31s - loss: 0.0686 - accuracy: 1.0000 - val_loss: 0.8612 - val_accuracy: 0.7400 - 31s/epoch - 2s/step\n",
            "Epoch 125/200\n",
            "13/13 - 29s - loss: 0.0673 - accuracy: 1.0000 - val_loss: 0.8885 - val_accuracy: 0.7200 - 29s/epoch - 2s/step\n",
            "Epoch 126/200\n",
            "13/13 - 29s - loss: 0.0667 - accuracy: 1.0000 - val_loss: 0.8604 - val_accuracy: 0.7300 - 29s/epoch - 2s/step\n",
            "Epoch 127/200\n",
            "13/13 - 29s - loss: 0.0686 - accuracy: 1.0000 - val_loss: 0.8917 - val_accuracy: 0.7000 - 29s/epoch - 2s/step\n",
            "Epoch 128/200\n",
            "13/13 - 29s - loss: 0.0665 - accuracy: 1.0000 - val_loss: 0.8896 - val_accuracy: 0.7200 - 29s/epoch - 2s/step\n",
            "Epoch 129/200\n",
            "13/13 - 29s - loss: 0.0660 - accuracy: 1.0000 - val_loss: 0.8679 - val_accuracy: 0.7100 - 29s/epoch - 2s/step\n",
            "Epoch 130/200\n",
            "13/13 - 31s - loss: 0.0649 - accuracy: 1.0000 - val_loss: 0.8690 - val_accuracy: 0.7200 - 31s/epoch - 2s/step\n",
            "Epoch 131/200\n",
            "13/13 - 29s - loss: 0.0647 - accuracy: 1.0000 - val_loss: 0.8585 - val_accuracy: 0.7200 - 29s/epoch - 2s/step\n",
            "Epoch 132/200\n",
            "13/13 - 29s - loss: 0.0648 - accuracy: 1.0000 - val_loss: 0.8733 - val_accuracy: 0.7100 - 29s/epoch - 2s/step\n",
            "Epoch 133/200\n",
            "13/13 - 29s - loss: 0.0643 - accuracy: 1.0000 - val_loss: 0.8793 - val_accuracy: 0.7200 - 29s/epoch - 2s/step\n",
            "Epoch 134/200\n",
            "13/13 - 29s - loss: 0.0631 - accuracy: 1.0000 - val_loss: 0.8541 - val_accuracy: 0.7300 - 29s/epoch - 2s/step\n",
            "Epoch 135/200\n",
            "13/13 - 30s - loss: 0.0661 - accuracy: 1.0000 - val_loss: 0.8967 - val_accuracy: 0.7200 - 30s/epoch - 2s/step\n",
            "Epoch 136/200\n",
            "13/13 - 29s - loss: 0.0624 - accuracy: 1.0000 - val_loss: 0.8910 - val_accuracy: 0.7200 - 29s/epoch - 2s/step\n",
            "Epoch 137/200\n",
            "13/13 - 32s - loss: 0.0624 - accuracy: 1.0000 - val_loss: 0.8746 - val_accuracy: 0.7200 - 32s/epoch - 2s/step\n",
            "Epoch 138/200\n",
            "13/13 - 29s - loss: 0.0608 - accuracy: 1.0000 - val_loss: 0.9079 - val_accuracy: 0.7100 - 29s/epoch - 2s/step\n",
            "Epoch 139/200\n",
            "13/13 - 29s - loss: 0.0623 - accuracy: 1.0000 - val_loss: 0.8784 - val_accuracy: 0.7100 - 29s/epoch - 2s/step\n",
            "Epoch 140/200\n",
            "13/13 - 29s - loss: 0.0616 - accuracy: 1.0000 - val_loss: 0.8726 - val_accuracy: 0.7100 - 29s/epoch - 2s/step\n",
            "Epoch 141/200\n",
            "13/13 - 29s - loss: 0.0612 - accuracy: 1.0000 - val_loss: 0.9031 - val_accuracy: 0.7200 - 29s/epoch - 2s/step\n",
            "Epoch 142/200\n",
            "13/13 - 29s - loss: 0.0599 - accuracy: 1.0000 - val_loss: 0.8929 - val_accuracy: 0.7400 - 29s/epoch - 2s/step\n",
            "Epoch 143/200\n",
            "13/13 - 29s - loss: 0.0587 - accuracy: 1.0000 - val_loss: 0.8958 - val_accuracy: 0.7100 - 29s/epoch - 2s/step\n",
            "Epoch 144/200\n",
            "13/13 - 31s - loss: 0.0598 - accuracy: 1.0000 - val_loss: 0.8771 - val_accuracy: 0.7200 - 31s/epoch - 2s/step\n",
            "Epoch 145/200\n",
            "13/13 - 29s - loss: 0.0602 - accuracy: 1.0000 - val_loss: 0.8943 - val_accuracy: 0.7100 - 29s/epoch - 2s/step\n",
            "Epoch 146/200\n",
            "13/13 - 29s - loss: 0.0589 - accuracy: 1.0000 - val_loss: 0.8962 - val_accuracy: 0.7100 - 29s/epoch - 2s/step\n",
            "Epoch 147/200\n",
            "13/13 - 30s - loss: 0.0584 - accuracy: 1.0000 - val_loss: 0.8689 - val_accuracy: 0.7200 - 30s/epoch - 2s/step\n",
            "Epoch 148/200\n",
            "13/13 - 29s - loss: 0.0591 - accuracy: 1.0000 - val_loss: 0.9092 - val_accuracy: 0.7400 - 29s/epoch - 2s/step\n",
            "Epoch 149/200\n",
            "13/13 - 29s - loss: 0.0587 - accuracy: 1.0000 - val_loss: 0.8475 - val_accuracy: 0.7300 - 29s/epoch - 2s/step\n",
            "Epoch 150/200\n",
            "13/13 - 32s - loss: 0.0573 - accuracy: 1.0000 - val_loss: 0.8615 - val_accuracy: 0.7100 - 32s/epoch - 2s/step\n",
            "Epoch 151/200\n",
            "13/13 - 29s - loss: 0.0559 - accuracy: 1.0000 - val_loss: 0.8896 - val_accuracy: 0.7200 - 29s/epoch - 2s/step\n",
            "Epoch 152/200\n",
            "13/13 - 29s - loss: 0.0566 - accuracy: 1.0000 - val_loss: 0.8708 - val_accuracy: 0.7300 - 29s/epoch - 2s/step\n",
            "Epoch 153/200\n",
            "13/13 - 29s - loss: 0.0559 - accuracy: 1.0000 - val_loss: 0.8873 - val_accuracy: 0.7000 - 29s/epoch - 2s/step\n",
            "Epoch 154/200\n",
            "13/13 - 29s - loss: 0.0553 - accuracy: 1.0000 - val_loss: 0.8873 - val_accuracy: 0.7200 - 29s/epoch - 2s/step\n",
            "Epoch 155/200\n",
            "13/13 - 29s - loss: 0.0547 - accuracy: 1.0000 - val_loss: 0.8759 - val_accuracy: 0.7300 - 29s/epoch - 2s/step\n",
            "Epoch 156/200\n",
            "13/13 - 30s - loss: 0.0534 - accuracy: 1.0000 - val_loss: 0.8492 - val_accuracy: 0.7400 - 30s/epoch - 2s/step\n",
            "Epoch 157/200\n",
            "13/13 - 31s - loss: 0.0551 - accuracy: 1.0000 - val_loss: 0.8875 - val_accuracy: 0.7200 - 31s/epoch - 2s/step\n",
            "Epoch 158/200\n",
            "13/13 - 29s - loss: 0.0527 - accuracy: 1.0000 - val_loss: 0.8894 - val_accuracy: 0.7200 - 29s/epoch - 2s/step\n",
            "Epoch 159/200\n",
            "13/13 - 29s - loss: 0.0536 - accuracy: 1.0000 - val_loss: 0.8811 - val_accuracy: 0.7200 - 29s/epoch - 2s/step\n",
            "Epoch 160/200\n",
            "13/13 - 29s - loss: 0.0529 - accuracy: 1.0000 - val_loss: 0.8641 - val_accuracy: 0.7500 - 29s/epoch - 2s/step\n",
            "Epoch 161/200\n",
            "13/13 - 29s - loss: 0.0536 - accuracy: 1.0000 - val_loss: 0.9014 - val_accuracy: 0.7200 - 29s/epoch - 2s/step\n",
            "Epoch 162/200\n",
            "13/13 - 29s - loss: 0.0518 - accuracy: 1.0000 - val_loss: 0.8955 - val_accuracy: 0.7400 - 29s/epoch - 2s/step\n",
            "Epoch 163/200\n",
            "13/13 - 31s - loss: 0.0518 - accuracy: 1.0000 - val_loss: 0.8600 - val_accuracy: 0.7400 - 31s/epoch - 2s/step\n",
            "Epoch 164/200\n",
            "13/13 - 29s - loss: 0.0514 - accuracy: 1.0000 - val_loss: 0.8780 - val_accuracy: 0.7100 - 29s/epoch - 2s/step\n",
            "Epoch 165/200\n",
            "13/13 - 29s - loss: 0.0504 - accuracy: 1.0000 - val_loss: 0.9061 - val_accuracy: 0.7100 - 29s/epoch - 2s/step\n",
            "Epoch 166/200\n",
            "13/13 - 29s - loss: 0.0504 - accuracy: 1.0000 - val_loss: 0.8749 - val_accuracy: 0.7200 - 29s/epoch - 2s/step\n",
            "Epoch 167/200\n",
            "13/13 - 29s - loss: 0.0512 - accuracy: 1.0000 - val_loss: 0.8622 - val_accuracy: 0.7300 - 29s/epoch - 2s/step\n",
            "Epoch 168/200\n",
            "13/13 - 29s - loss: 0.0498 - accuracy: 1.0000 - val_loss: 0.8705 - val_accuracy: 0.7100 - 29s/epoch - 2s/step\n",
            "Epoch 169/200\n",
            "13/13 - 29s - loss: 0.0506 - accuracy: 1.0000 - val_loss: 0.8899 - val_accuracy: 0.7200 - 29s/epoch - 2s/step\n",
            "Epoch 170/200\n",
            "13/13 - 31s - loss: 0.0490 - accuracy: 1.0000 - val_loss: 0.8943 - val_accuracy: 0.7200 - 31s/epoch - 2s/step\n",
            "Epoch 171/200\n",
            "13/13 - 29s - loss: 0.0494 - accuracy: 1.0000 - val_loss: 0.9214 - val_accuracy: 0.7400 - 29s/epoch - 2s/step\n",
            "Epoch 172/200\n",
            "13/13 - 29s - loss: 0.0494 - accuracy: 1.0000 - val_loss: 0.8532 - val_accuracy: 0.7200 - 29s/epoch - 2s/step\n",
            "Epoch 173/200\n",
            "13/13 - 29s - loss: 0.0502 - accuracy: 1.0000 - val_loss: 0.8941 - val_accuracy: 0.7000 - 29s/epoch - 2s/step\n",
            "Epoch 174/200\n",
            "13/13 - 29s - loss: 0.0486 - accuracy: 1.0000 - val_loss: 0.8616 - val_accuracy: 0.7300 - 29s/epoch - 2s/step\n",
            "Epoch 175/200\n",
            "13/13 - 29s - loss: 0.0490 - accuracy: 1.0000 - val_loss: 0.8400 - val_accuracy: 0.7600 - 29s/epoch - 2s/step\n",
            "Epoch 176/200\n",
            "13/13 - 29s - loss: 0.0484 - accuracy: 1.0000 - val_loss: 0.8745 - val_accuracy: 0.7100 - 29s/epoch - 2s/step\n",
            "Epoch 177/200\n",
            "13/13 - 31s - loss: 0.0485 - accuracy: 1.0000 - val_loss: 0.8574 - val_accuracy: 0.7300 - 31s/epoch - 2s/step\n",
            "Epoch 178/200\n",
            "13/13 - 30s - loss: 0.0477 - accuracy: 1.0000 - val_loss: 0.8524 - val_accuracy: 0.7200 - 30s/epoch - 2s/step\n",
            "Epoch 179/200\n",
            "13/13 - 29s - loss: 0.0473 - accuracy: 1.0000 - val_loss: 0.8575 - val_accuracy: 0.7200 - 29s/epoch - 2s/step\n",
            "Epoch 180/200\n",
            "13/13 - 29s - loss: 0.0467 - accuracy: 1.0000 - val_loss: 0.8849 - val_accuracy: 0.7200 - 29s/epoch - 2s/step\n",
            "Epoch 181/200\n",
            "13/13 - 29s - loss: 0.0470 - accuracy: 1.0000 - val_loss: 0.8397 - val_accuracy: 0.7500 - 29s/epoch - 2s/step\n",
            "Epoch 182/200\n",
            "13/13 - 29s - loss: 0.0456 - accuracy: 1.0000 - val_loss: 0.8530 - val_accuracy: 0.7300 - 29s/epoch - 2s/step\n",
            "Epoch 183/200\n",
            "13/13 - 30s - loss: 0.0465 - accuracy: 1.0000 - val_loss: 0.8939 - val_accuracy: 0.7200 - 30s/epoch - 2s/step\n",
            "Epoch 184/200\n",
            "13/13 - 31s - loss: 0.0454 - accuracy: 1.0000 - val_loss: 0.8448 - val_accuracy: 0.7200 - 31s/epoch - 2s/step\n",
            "Epoch 185/200\n",
            "13/13 - 29s - loss: 0.0455 - accuracy: 1.0000 - val_loss: 0.8313 - val_accuracy: 0.7400 - 29s/epoch - 2s/step\n",
            "Epoch 186/200\n",
            "13/13 - 29s - loss: 0.0448 - accuracy: 1.0000 - val_loss: 0.8854 - val_accuracy: 0.7300 - 29s/epoch - 2s/step\n",
            "Epoch 187/200\n",
            "13/13 - 29s - loss: 0.0453 - accuracy: 1.0000 - val_loss: 0.8414 - val_accuracy: 0.7200 - 29s/epoch - 2s/step\n",
            "Epoch 188/200\n",
            "13/13 - 29s - loss: 0.0448 - accuracy: 1.0000 - val_loss: 0.8759 - val_accuracy: 0.7200 - 29s/epoch - 2s/step\n",
            "Epoch 189/200\n",
            "13/13 - 29s - loss: 0.0446 - accuracy: 1.0000 - val_loss: 0.8422 - val_accuracy: 0.7300 - 29s/epoch - 2s/step\n",
            "Epoch 190/200\n",
            "13/13 - 32s - loss: 0.0446 - accuracy: 1.0000 - val_loss: 0.8563 - val_accuracy: 0.7300 - 32s/epoch - 2s/step\n",
            "Epoch 191/200\n",
            "13/13 - 29s - loss: 0.0436 - accuracy: 1.0000 - val_loss: 0.8649 - val_accuracy: 0.7100 - 29s/epoch - 2s/step\n",
            "Epoch 192/200\n",
            "13/13 - 29s - loss: 0.0432 - accuracy: 1.0000 - val_loss: 0.9164 - val_accuracy: 0.7100 - 29s/epoch - 2s/step\n",
            "Epoch 193/200\n",
            "13/13 - 30s - loss: 0.0455 - accuracy: 1.0000 - val_loss: 0.8822 - val_accuracy: 0.7300 - 30s/epoch - 2s/step\n",
            "Epoch 194/200\n",
            "13/13 - 30s - loss: 0.0447 - accuracy: 1.0000 - val_loss: 0.8570 - val_accuracy: 0.7400 - 30s/epoch - 2s/step\n",
            "Epoch 195/200\n",
            "13/13 - 30s - loss: 0.0432 - accuracy: 1.0000 - val_loss: 0.8524 - val_accuracy: 0.7400 - 30s/epoch - 2s/step\n",
            "Epoch 196/200\n",
            "13/13 - 29s - loss: 0.0442 - accuracy: 1.0000 - val_loss: 0.8714 - val_accuracy: 0.7300 - 29s/epoch - 2s/step\n",
            "Epoch 197/200\n",
            "13/13 - 32s - loss: 0.0424 - accuracy: 1.0000 - val_loss: 0.8687 - val_accuracy: 0.7400 - 32s/epoch - 2s/step\n",
            "Epoch 198/200\n",
            "13/13 - 29s - loss: 0.0415 - accuracy: 1.0000 - val_loss: 0.8535 - val_accuracy: 0.7400 - 29s/epoch - 2s/step\n",
            "Epoch 199/200\n",
            "13/13 - 30s - loss: 0.0416 - accuracy: 1.0000 - val_loss: 0.8545 - val_accuracy: 0.7400 - 30s/epoch - 2s/step\n",
            "Epoch 200/200\n",
            "13/13 - 30s - loss: 0.0423 - accuracy: 1.0000 - val_loss: 0.8608 - val_accuracy: 0.7400 - 30s/epoch - 2s/step\n",
            "16/16 [==============================] - 8s 487ms/step - loss: 1.0568 - accuracy: 0.6760\n"
          ]
        }
      ]
    },
    {
      "cell_type": "code",
      "source": [
        "save_model(m,\"/content/drive/MyDrive/EE603_Assignment/my_audio_model\")\n",
        "np.save(\"/content/drive/MyDrive/EE603_Assignment/X_train_data\",X_train_data)\n",
        "np.save(\"/content/drive/MyDrive/EE603_Assignment/X_test_data\",X_test_data)\n",
        "np.save(\"/content/drive/MyDrive/EE603_Assignment/Y_train_data\",Y_train_data)\n",
        "np.save(\"/content/drive/MyDrive/EE603_Assignment/Y_test_data\",Y_test_data)"
      ],
      "metadata": {
        "id": "1Vu9LbC_gmB0"
      },
      "execution_count": 15,
      "outputs": []
    },
    {
      "cell_type": "code",
      "source": [
        "df = pd.read_csv(\"/content/drive/MyDrive/EE603_Assignment/annotations.csv\")\n",
        "Labels = list(df['label'].unique())\n",
        "Labels_int = list(range(len(Labels)))\n",
        "NUM_CLASSES = len(Labels_int)\n",
        "map_char_to_int = dict(zip(Labels,Labels_int))\n",
        "map_int_to_char = dict(zip(Labels_int,Labels))\n",
        "#map_int_to_char\n",
        "#map_char_to_int"
      ],
      "metadata": {
        "id": "EUbU5HISCSJS"
      },
      "execution_count": 88,
      "outputs": []
    },
    {
      "cell_type": "code",
      "source": [
        "m= load_model(\"/content/drive/MyDrive/EE603_Assignment/my_audio_model\")\n",
        "m.summary()"
      ],
      "metadata": {
        "id": "Ir2IOC9Ug71-",
        "colab": {
          "base_uri": "https://localhost:8080/"
        },
        "outputId": "a67b49d6-b904-4c6c-b163-305c5df69b9a"
      },
      "execution_count": 17,
      "outputs": [
        {
          "output_type": "stream",
          "name": "stdout",
          "text": [
            "Model: \"2d_convolution\"\n",
            "_________________________________________________________________\n",
            " Layer (type)                Output Shape              Param #   \n",
            "=================================================================\n",
            " input_1 (InputLayer)        [(None, 128, 500, 1)]     0         \n",
            "                                                                 \n",
            " batch_norm (LayerNormalizat  (None, 128, 500, 1)      1000      \n",
            " ion)                                                            \n",
            "                                                                 \n",
            " conv2d_relu_1 (Conv2D)      (None, 128, 500, 8)       400       \n",
            "                                                                 \n",
            " max_pool_2d_1 (MaxPooling2D  (None, 64, 250, 8)       0         \n",
            " )                                                               \n",
            "                                                                 \n",
            " dropout_1 (Dropout)         (None, 64, 250, 8)        0         \n",
            "                                                                 \n",
            " conv2d_relu_2 (Conv2D)      (None, 64, 250, 16)       3216      \n",
            "                                                                 \n",
            " max_pool_2d_2 (MaxPooling2D  (None, 32, 125, 16)      0         \n",
            " )                                                               \n",
            "                                                                 \n",
            " dropout_2 (Dropout)         (None, 32, 125, 16)       0         \n",
            "                                                                 \n",
            " conv2d_relu_3 (Conv2D)      (None, 32, 125, 16)       2320      \n",
            "                                                                 \n",
            " max_pool_2d_3 (MaxPooling2D  (None, 16, 63, 16)       0         \n",
            " )                                                               \n",
            "                                                                 \n",
            " dropout_3 (Dropout)         (None, 16, 63, 16)        0         \n",
            "                                                                 \n",
            " conv2d_relu_4 (Conv2D)      (None, 16, 63, 32)        4640      \n",
            "                                                                 \n",
            " max_pool_2d_4 (MaxPooling2D  (None, 8, 32, 32)        0         \n",
            " )                                                               \n",
            "                                                                 \n",
            " dropout_4 (Dropout)         (None, 8, 32, 32)         0         \n",
            "                                                                 \n",
            " max_pool_2d_5 (MaxPooling2D  (None, 4, 16, 32)        0         \n",
            " )                                                               \n",
            "                                                                 \n",
            " flatten (Flatten)           (None, 2048)              0         \n",
            "                                                                 \n",
            " dropout_5 (Dropout)         (None, 2048)              0         \n",
            "                                                                 \n",
            " dense (Dense)               (None, 64)                131136    \n",
            "                                                                 \n",
            " softmax (Dense)             (None, 10)                650       \n",
            "                                                                 \n",
            "=================================================================\n",
            "Total params: 143,362\n",
            "Trainable params: 143,362\n",
            "Non-trainable params: 0\n",
            "_________________________________________________________________\n"
          ]
        }
      ]
    },
    {
      "cell_type": "markdown",
      "source": [
        "# **Prediction on the Test Set**"
      ],
      "metadata": {
        "id": "MP8YMdBmhbMY"
      }
    },
    {
      "cell_type": "code",
      "source": [
        "def map(Y_pred,map_char_to_int):\n",
        "  Y_pred_char = []\n",
        "\n",
        "  for i in range(Y_pred.size):\n",
        "    for key in map_char_to_int.keys():\n",
        "      if(map_char_to_int[key]==Y_pred[i]):\n",
        "        Y_pred_char.append(key)\n",
        "        break\n",
        "\n",
        "  return Y_pred_char  "
      ],
      "metadata": {
        "id": "VfNuvAuThE3b"
      },
      "execution_count": 89,
      "outputs": []
    },
    {
      "cell_type": "code",
      "source": [
        "def map_rev(Y_truth_label,map_int_to_char):\n",
        "  Y_truth_int = []\n",
        "\n",
        "  for i in range(len(Y_truth_label)):\n",
        "    for key in map_int_to_char.keys():\n",
        "      if(map_int_to_char[key]==Y_truth_label[i]):\n",
        "        Y_truth_int.append(key)\n",
        "        break\n",
        "\n",
        "  return Y_truth_int  "
      ],
      "metadata": {
        "id": "ya5gDOgBBnOc"
      },
      "execution_count": 90,
      "outputs": []
    },
    {
      "cell_type": "code",
      "source": [
        "####################### PREDICTION ON TEST SET ####################################\n",
        "\n",
        "directory = \"/content/drive/MyDrive/EE603_Assignment/test\"\n",
        "direc = os.fsencode(directory)\n",
        "lis_dir = {}\n",
        "test_pred_int = []\n",
        "for np_fil in os.listdir(direc):\n",
        "  fil = os.fsdecode(np_fil)\n",
        "  X = spec_resize(np.load(directory+\"/\"+fil))\n",
        "  label = np.argmax(m.predict(np.array([X])),axis=1)\n",
        "  test_pred_int.append(int(label))\n",
        "  for key in map_char_to_int.keys():\n",
        "    if(map_char_to_int[key]==label):\n",
        "      lis_dir[fil]=key\n",
        "      break"
      ],
      "metadata": {
        "id": "57e7OCF-hJcc"
      },
      "execution_count": 75,
      "outputs": []
    },
    {
      "cell_type": "code",
      "source": [
        "lis_dir\n",
        "#test_pred_int"
      ],
      "metadata": {
        "id": "LgsM_XQYhRtH",
        "colab": {
          "base_uri": "https://localhost:8080/"
        },
        "outputId": "5c52b0af-6347-46bb-f85a-5fca6d3a909c"
      },
      "execution_count": 78,
      "outputs": [
        {
          "output_type": "execute_result",
          "data": {
            "text/plain": [
              "{'MLSP_test1071.npy': 'Vehicle_horn_and_car_horn_and_honking',\n",
              " 'MLSP_test1163322.npy': 'Crying_and_sobbing',\n",
              " 'MLSP_test1194176.npy': 'Microwave_oven',\n",
              " 'MLSP_test1134284.npy': 'Crying_and_sobbing',\n",
              " 'MLSP_test1116162.npy': 'Meow',\n",
              " 'MLSP_test1192345.npy': 'Meow',\n",
              " 'MLSP_test1053175.npy': 'Microwave_oven',\n",
              " 'MLSP_test1328457.npy': 'Walk_and_footsteps',\n",
              " 'MLSP_test1186185.npy': 'Meow',\n",
              " 'MLSP_test113179.npy': 'Walk_and_footsteps',\n",
              " 'MLSP_test1077269.npy': 'Microwave_oven',\n",
              " 'MLSP_test1516233.npy': 'Microwave_oven',\n",
              " 'MLSP_test1498106.npy': 'Bark',\n",
              " 'MLSP_test2154380.npy': 'Walk_and_footsteps',\n",
              " 'MLSP_test1457299.npy': 'Microwave_oven',\n",
              " 'MLSP_test1362223.npy': 'Microwave_oven',\n",
              " 'MLSP_test1443477.npy': 'Microwave_oven',\n",
              " 'MLSP_test208923.npy': 'Siren',\n",
              " 'MLSP_test1373407.npy': 'Microwave_oven',\n",
              " 'MLSP_test140846.npy': 'Shatter',\n",
              " 'MLSP_test1379148.npy': 'Shatter',\n",
              " 'MLSP_test1357311.npy': 'Shatter',\n",
              " 'MLSP_test1404304.npy': 'Bark',\n",
              " 'MLSP_test1451403.npy': 'Walk_and_footsteps',\n",
              " 'MLSP_test1395138.npy': 'Microwave_oven',\n",
              " 'MLSP_test2074455.npy': 'Siren',\n",
              " 'MLSP_test1353495.npy': 'Crying_and_sobbing',\n",
              " 'MLSP_test130220.npy': 'Meow',\n",
              " 'MLSP_test2012248.npy': 'Bark',\n",
              " 'MLSP_test1289164.npy': 'Meow',\n",
              " 'MLSP_test1277465.npy': 'Crying_and_sobbing',\n",
              " 'MLSP_test1216256.npy': 'Doorbell',\n",
              " 'MLSP_test130845.npy': 'Vehicle_horn_and_car_horn_and_honking',\n",
              " 'MLSP_test1301172.npy': 'Crying_and_sobbing',\n",
              " 'MLSP_test132489.npy': 'Meow',\n",
              " 'MLSP_test1306499.npy': 'Meow',\n",
              " 'MLSP_test1235269.npy': 'Meow',\n",
              " 'MLSP_test149028.npy': 'Microwave_oven',\n",
              " 'MLSP_test1205141.npy': 'Crying_and_sobbing',\n",
              " 'MLSP_test1140162.npy': 'Crying_and_sobbing',\n",
              " 'MLSP_test2073257.npy': 'Bark',\n",
              " 'MLSP_test2071356.npy': 'Siren',\n",
              " 'MLSP_test2065366.npy': 'Siren',\n",
              " 'MLSP_test205489.npy': 'Siren',\n",
              " 'MLSP_test1968494.npy': 'Doorbell',\n",
              " 'MLSP_test2061309.npy': 'Crying_and_sobbing',\n",
              " 'MLSP_test20111.npy': 'Walk_and_footsteps',\n",
              " 'MLSP_test198998.npy': 'Shatter',\n",
              " 'MLSP_test206085.npy': 'Meow',\n",
              " 'MLSP_test182273.npy': 'Shatter',\n",
              " 'MLSP_test192098.npy': 'Microwave_oven',\n",
              " 'MLSP_test1865154.npy': 'Microwave_oven',\n",
              " 'MLSP_test18380.npy': 'Bark',\n",
              " 'MLSP_test1798478.npy': 'Shatter',\n",
              " 'MLSP_test173438.npy': 'Walk_and_footsteps',\n",
              " 'MLSP_test1778475.npy': 'Shatter',\n",
              " 'MLSP_test17186.npy': 'Bark',\n",
              " 'MLSP_test1820283.npy': 'Doorbell',\n",
              " 'MLSP_test1810394.npy': 'Shatter',\n",
              " 'MLSP_test1805429.npy': 'Shatter',\n",
              " 'MLSP_test1649169.npy': 'Walk_and_footsteps',\n",
              " 'MLSP_test1706153.npy': 'Walk_and_footsteps',\n",
              " 'MLSP_test1683220.npy': 'Shatter',\n",
              " 'MLSP_test1458291.npy': 'Microwave_oven',\n",
              " 'MLSP_test1524204.npy': 'Doorbell',\n",
              " 'MLSP_test1602453.npy': 'Walk_and_footsteps',\n",
              " 'MLSP_test1475459.npy': 'Doorbell',\n",
              " 'MLSP_test1515407.npy': 'Microwave_oven',\n",
              " 'MLSP_test1553343.npy': 'Shatter',\n",
              " 'MLSP_test1582420.npy': 'Shatter',\n",
              " 'MLSP_test2336133.npy': 'Vehicle_horn_and_car_horn_and_honking',\n",
              " 'MLSP_test2318377.npy': 'Knock',\n",
              " 'MLSP_test2406.npy': 'Meow',\n",
              " 'MLSP_test2158293.npy': 'Crying_and_sobbing',\n",
              " 'MLSP_test2204281.npy': 'Walk_and_footsteps',\n",
              " 'MLSP_test2211271.npy': 'Vehicle_horn_and_car_horn_and_honking',\n",
              " 'MLSP_test2153476.npy': 'Bark',\n",
              " 'MLSP_test2155260.npy': 'Vehicle_horn_and_car_horn_and_honking',\n",
              " 'MLSP_test2186214.npy': 'Vehicle_horn_and_car_horn_and_honking',\n",
              " 'MLSP_test2229354.npy': 'Doorbell',\n",
              " 'MLSP_test2239166.npy': 'Walk_and_footsteps',\n",
              " 'MLSP_test2206272.npy': 'Walk_and_footsteps',\n",
              " 'MLSP_test2182439.npy': 'Vehicle_horn_and_car_horn_and_honking',\n",
              " 'MLSP_test2098444.npy': 'Crying_and_sobbing',\n",
              " 'MLSP_test2108410.npy': 'Walk_and_footsteps',\n",
              " 'MLSP_test213499.npy': 'Shatter',\n",
              " 'MLSP_test2115430.npy': 'Vehicle_horn_and_car_horn_and_honking',\n",
              " 'MLSP_test2090121.npy': 'Microwave_oven',\n",
              " 'MLSP_test2142247.npy': 'Vehicle_horn_and_car_horn_and_honking',\n",
              " 'MLSP_test2144237.npy': 'Vehicle_horn_and_car_horn_and_honking',\n",
              " 'MLSP_test210764.npy': 'Vehicle_horn_and_car_horn_and_honking',\n",
              " 'MLSP_test2109311.npy': 'Meow',\n",
              " 'MLSP_test2091205.npy': 'Bark',\n",
              " 'MLSP_test2081207.npy': 'Walk_and_footsteps',\n",
              " 'MLSP_test2068447.npy': 'Microwave_oven',\n",
              " 'MLSP_test2085405.npy': 'Bark',\n",
              " 'MLSP_test2062232.npy': 'Siren',\n",
              " 'MLSP_test2072214.npy': 'Siren',\n",
              " 'MLSP_test2077439.npy': 'Siren',\n",
              " 'MLSP_test2082223.npy': 'Siren'}"
            ]
          },
          "metadata": {},
          "execution_count": 78
        }
      ]
    },
    {
      "cell_type": "markdown",
      "source": [
        "# **Final Test CSV File**"
      ],
      "metadata": {
        "id": "ehl_oo_qhiYS"
      }
    },
    {
      "cell_type": "code",
      "source": [
        "########################## Converting to .csv ##################################\n",
        "\n",
        "import csv\n",
        "header_name = ['FileId','Prediction']\n",
        "with open(\"/content/drive/MyDrive/EE603_Assignment/test.csv\",'w') as f:\n",
        "  dw = csv.DictWriter(f,fieldnames = header_name)\n",
        "  dw.writeheader()\n",
        "  for key in lis_dir.keys():\n",
        "    f.write(\"%s,%s\\n\"%(key,lis_dir[key]))"
      ],
      "metadata": {
        "id": "Syk_fSt5hSZW"
      },
      "execution_count": 79,
      "outputs": []
    },
    {
      "cell_type": "code",
      "source": [
        "df = pd.read_csv(\"/content/drive/MyDrive/EE603_Assignment/test.csv\")\n",
        "#np.save(\"/content/drive/MyDrive/EE603_Assignment/test\",)\n",
        "print(df)"
      ],
      "metadata": {
        "id": "G8E61AEvhWde",
        "colab": {
          "base_uri": "https://localhost:8080/"
        },
        "outputId": "19950152-0deb-42de-ee96-f87ff4765d9c"
      },
      "execution_count": 80,
      "outputs": [
        {
          "output_type": "stream",
          "name": "stdout",
          "text": [
            "                  FileId                             Prediction\n",
            "0      MLSP_test1071.npy  Vehicle_horn_and_car_horn_and_honking\n",
            "1   MLSP_test1163322.npy                     Crying_and_sobbing\n",
            "2   MLSP_test1194176.npy                         Microwave_oven\n",
            "3   MLSP_test1134284.npy                     Crying_and_sobbing\n",
            "4   MLSP_test1116162.npy                                   Meow\n",
            "..                   ...                                    ...\n",
            "95  MLSP_test2085405.npy                                   Bark\n",
            "96  MLSP_test2062232.npy                                  Siren\n",
            "97  MLSP_test2072214.npy                                  Siren\n",
            "98  MLSP_test2077439.npy                                  Siren\n",
            "99  MLSP_test2082223.npy                                  Siren\n",
            "\n",
            "[100 rows x 2 columns]\n"
          ]
        }
      ]
    },
    {
      "cell_type": "markdown",
      "source": [
        "# **Accuracy, Precision, Recall, F1 Score, Confusion Matrix**"
      ],
      "metadata": {
        "id": "Fn93gb7qAaBN"
      }
    },
    {
      "cell_type": "code",
      "source": [
        "####Calculated Accuracy, Precision, Recall etc. for \"DUMMY TEST DATA\"######\n",
        "\n",
        "gnd_truth_csv_file = \"/content/drive/MyDrive/EE603_Assignment/test.csv\"\n",
        "test_csv_file = \"/content/drive/MyDrive/EE603_Assignment/test.csv\"\n",
        "\n",
        "id_label_gnd = read_csv(gnd_truth_csv_file)\n",
        "id_label_test = read_csv(test_csv_file)  \n",
        "\n",
        "header_name = ['Fname','Label']\n",
        "with open(\"/content/drive/MyDrive/EE603_Assignment/gnd_truth.csv\",'w') as f:\n",
        "  dw = csv.DictWriter(f,fieldnames = header_name)\n",
        "  dw.writeheader()\n",
        "  for key in id_label_test.keys():\n",
        "    f.write(\"%s,%s\\n\"%(key,id_label_gnd[key]))"
      ],
      "metadata": {
        "id": "xZdHUpWB3X8i"
      },
      "execution_count": 91,
      "outputs": []
    },
    {
      "cell_type": "code",
      "source": [
        "df = pd.read_csv(\"/content/drive/MyDrive/EE603_Assignment/gnd_truth.csv\")\n",
        "gnd_truth_label = list(df.Label)\n",
        "#print(gnd_truth_label)\n",
        "gnd_truth_int = map_rev(gnd_truth_label, map_int_to_char)\n",
        "#print(gnd_truth_int)"
      ],
      "metadata": {
        "id": "MVdVpGtj2zl7"
      },
      "execution_count": 82,
      "outputs": []
    },
    {
      "cell_type": "code",
      "source": [
        "print('Accuracy: %.3f' %accuracy_score(gnd_truth_int, test_pred_int))\n",
        "print('Precision: %.3f' %precision_score(gnd_truth_int, test_pred_int , average=\"macro\"))\n",
        "print('Recall: %.3f' %recall_score(gnd_truth_int, test_pred_int , average=\"macro\"))\n",
        "print('F1 Score: %.3f' %f1_score(gnd_truth_int, test_pred_int , average=\"macro\"))\n",
        "print('Confusion Matrix: ')\n",
        "print(confusion_matrix(gnd_truth_int, test_pred_int))"
      ],
      "metadata": {
        "colab": {
          "base_uri": "https://localhost:8080/"
        },
        "id": "bghBXo8c6QTB",
        "outputId": "76cd56e2-3e88-4311-a6d9-83243da1e07b"
      },
      "execution_count": 83,
      "outputs": [
        {
          "output_type": "stream",
          "name": "stdout",
          "text": [
            "Accuracy: 1.000\n",
            "Precision: 1.000\n",
            "Recall: 1.000\n",
            "F1 Score: 1.000\n",
            "Confusion Matrix: \n",
            "[[ 9  0  0  0  0  0  0  0  0  0]\n",
            " [ 0 11  0  0  0  0  0  0  0  0]\n",
            " [ 0  0  9  0  0  0  0  0  0  0]\n",
            " [ 0  0  0 13  0  0  0  0  0  0]\n",
            " [ 0  0  0  0  1  0  0  0  0  0]\n",
            " [ 0  0  0  0  0 10  0  0  0  0]\n",
            " [ 0  0  0  0  0  0 16  0  0  0]\n",
            " [ 0  0  0  0  0  0  0 11  0  0]\n",
            " [ 0  0  0  0  0  0  0  0  6  0]\n",
            " [ 0  0  0  0  0  0  0  0  0 14]]\n"
          ]
        }
      ]
    }
  ]
}